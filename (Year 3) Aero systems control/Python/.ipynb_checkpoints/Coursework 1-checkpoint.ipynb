{
 "cells": [
  {
   "cell_type": "markdown",
   "id": "d741cd6e-c27d-456c-acc8-aee0ab38b79c",
   "metadata": {},
   "source": [
    "\n",
    " $$\\begin{align*}G(s)&= \\frac{b_{0}}{a_{2}s^{2} + a_{1}s+ a_{0}} & &\\to & G(s)&= \\frac{b_{0}/a_{2}}{a_{2}/a_{2}\\:s^{2} + a_{1}/a_{2}\\:s+ a_{0}/a_{2}} & &\\to & G(s)&= \\frac{K \\omega_{n}^{2}}{s^{2} + 2\\zeta \\omega_{n}s+ \\omega_{n}^{2}} \\end{align*}$$\n",
    " $$\\begin{align*} \\omega_{n} &= \\sqrt{\\frac{a_{0}}{a_{2}}} & K &= \\frac{b_{0}}{a_{2} \\omega_{n}^{2}} = \\frac{b_{0} }{ a_{0}} & \\zeta &= \\frac{a_{1}}{2a_{2} \\omega_{n}} = \\frac{a_{1}}{2\\sqrt{a_{2}a_{0}} } \\end{align*}$$\n",
    "\n"
   ]
  },
  {
   "cell_type": "code",
   "execution_count": 38,
   "id": "3adb993d-aabc-48b3-8642-c569ecce1e12",
   "metadata": {},
   "outputs": [
    {
     "name": "stdout",
     "output_type": "stream",
     "text": [
      "14.142135623731*I\n",
      "-1.5\n",
      "-sqrt(2)*I/4\n"
     ]
    }
   ],
   "source": [
    "import sympy as sp \n",
    "sp.init_printing()\n",
    "\n",
    "a_2 = 1\n",
    "a_1 = 10\n",
    "a_0 = -200\n",
    "b_0 = 300\n",
    "\n",
    "omega_n = sp.sqrt( a_0/a_2 )\n",
    "K = b_0/a_0\n",
    "zeta =   a_1/(2*sp.sqrt( a_0*a_2 ))\n",
    "\n",
    "print( \"natural freq:\", omega_n )\n",
    "print( \"system gain:\",K )\n",
    "print( \"daming factor:\", zeta  )\n"
   ]
  },
  {
   "cell_type": "code",
   "execution_count": null,
   "id": "f4bfcace-8cda-4811-b2e9-ee01326a1b3d",
   "metadata": {},
   "outputs": [],
   "source": []
  },
  {
   "cell_type": "code",
   "execution_count": null,
   "id": "bfd98ae2-50df-4373-99bb-7c9dffe721f4",
   "metadata": {},
   "outputs": [],
   "source": []
  }
 ],
 "metadata": {
  "kernelspec": {
   "display_name": "Python 3 (ipykernel)",
   "language": "python",
   "name": "python3"
  },
  "language_info": {
   "codemirror_mode": {
    "name": "ipython",
    "version": 3
   },
   "file_extension": ".py",
   "mimetype": "text/x-python",
   "name": "python",
   "nbconvert_exporter": "python",
   "pygments_lexer": "ipython3",
   "version": "3.11.4"
  }
 },
 "nbformat": 4,
 "nbformat_minor": 5
}
