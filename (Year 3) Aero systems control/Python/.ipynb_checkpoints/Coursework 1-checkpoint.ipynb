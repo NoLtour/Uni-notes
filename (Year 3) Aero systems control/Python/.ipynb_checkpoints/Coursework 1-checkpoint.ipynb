{
 "cells": [
  {
   "cell_type": "markdown",
   "id": "e1249d91-3eb6-4a1d-8931-4e868d14e254",
   "metadata": {},
   "source": [
    "### 2a"
   ]
  },
  {
   "cell_type": "markdown",
   "id": "d741cd6e-c27d-456c-acc8-aee0ab38b79c",
   "metadata": {},
   "source": [
    "\n",
    " $$\\begin{align*}G(s)&= \\frac{b_{0}}{a_{2}s^{2} + a_{1}s+ a_{0}} & &\\to & G(s)&= \\frac{b_{0}/a_{2}}{a_{2}/a_{2}\\:s^{2} + a_{1}/a_{2}\\:s+ a_{0}/a_{2}} & &\\to & G(s)&= \\frac{K \\omega_{n}^{2}}{s^{2} + 2\\zeta \\omega_{n}s+ \\omega_{n}^{2}} \\end{align*}$$\n",
    " $$\\begin{align*} \\omega_{n} &= \\sqrt{\\frac{a_{0}}{a_{2}}} & K &= \\frac{b_{0}}{a_{2} \\omega_{n}^{2}} = \\frac{b_{0} }{ a_{0}} & \\zeta &= \\frac{a_{1}}{2a_{2} \\omega_{n}} = \\frac{a_{1}}{2\\sqrt{a_{2}a_{0}} } \\end{align*}$$\n",
    "\n"
   ]
  },
  {
   "cell_type": "code",
   "execution_count": 39,
   "id": "3adb993d-aabc-48b3-8642-c569ecce1e12",
   "metadata": {},
   "outputs": [
    {
     "name": "stdout",
     "output_type": "stream",
     "text": [
      "natural freq: 14.142135623731*I\n",
      "system gain: -1.5\n",
      "daming factor: -sqrt(2)*I/4\n"
     ]
    }
   ],
   "source": [
    "import sympy as sp \n",
    "sp.init_printing()\n",
    "\n",
    "a_2 = 1\n",
    "a_1 = 10\n",
    "a_0 = -200\n",
    "b_0 = 300\n",
    "\n",
    "omega_n = sp.sqrt( a_0/a_2 )\n",
    "K = b_0/a_0\n",
    "zeta =   a_1/(2*sp.sqrt( a_0*a_2 ))\n",
    "\n",
    "print( \"natural freq:\", omega_n )\n",
    "print( \"system gain:\",K )\n",
    "print( \"daming factor:\", zeta  )\n"
   ]
  },
  {
   "cell_type": "markdown",
   "id": "04ffc932-81e9-4d3d-8dc9-379b3f7ec1a3",
   "metadata": {},
   "source": [
    "### 2b"
   ]
  },
  {
   "cell_type": "code",
   "execution_count": 40,
   "id": "bfd98ae2-50df-4373-99bb-7c9dffe721f4",
   "metadata": {},
   "outputs": [
    {
     "name": "stdout",
     "output_type": "stream",
     "text": [
      "daming factor: -sqrt(2)*I/4\n"
     ]
    }
   ],
   "source": [
    "\n",
    "print( \"daming factor:\", zeta  )"
   ]
  },
  {
   "cell_type": "markdown",
   "id": "9470bd40-156b-471f-acae-723cfa81ad53",
   "metadata": {},
   "source": [
    "### 2c (Taken from my obsidian notes https://github.com/NoLtour/Uni-notes/blob/main/(Year%203)%20Aero%20systems%20control/4%20Response%20of%20dynamic%20systems/dynamic%20system%20response%20time%20metrics.md)"
   ]
  },
  {
   "cell_type": "markdown",
   "id": "24c45ff8-d899-499b-8998-8bea3016738a",
   "metadata": {},
   "source": [
    "Taking a second order system and applying a step response will produce the oscillatory motion seen above. A valid representation of this is as follows:\n",
    "\n",
    "$$\\begin{align*}\n",
    "c(t) &= 1 - \\frac{1}{\\sqrt{1-\\zeta^{2}}}e^{-\\zeta\\omega_{n}t} \\sin \\left(\\omega_{n} t\\sqrt{1 - \\zeta^{2}} + \\arctan \\frac{\\sqrt{1-\\zeta^{2}}}{\\zeta} \\right)\n",
    "\\end{align*}$$\n",
    "\n",
    "We'll now use this as our equation for getting each of these metrics from.\n",
    "\n",
    "#### Peak overshoot\n",
    "\n",
    "Not so hard, just find where $dc/dt=0$ and then take the first occurance above zero. This looks daunting, till you realise that $\\zeta$ and $\\omega_{n}$ are constants. Going to skip over most of it:\n",
    "\n",
    "$$\\begin{align*}\n",
    "c(t) &= 1 - \\frac{1}{\\sqrt{1-\\zeta^{2}}}e^{-\\zeta\\omega_{n}t} \\sin \\left(\\omega_{n} t\\sqrt{1 - \\zeta^{2}} + \\arctan \\frac{\\sqrt{1-\\zeta^{2}}}{\\zeta} \\right) \\\\\n",
    "&\\downarrow\\: \\text{ Find } \\frac{dc}{dx}=0 \\text{, then rearrange}\\\\\n",
    "\\frac{\\sqrt{{1-\\zeta^{2}}}}{\\zeta} &= \\tan\\left( \\omega_{n}t\\sqrt{1-\\zeta^{2}} +\\arctan\\frac{\\sqrt{1-\\zeta^{2}}}{\\zeta} \\right)\\\\\n",
    "&\\downarrow\\: \\text{ Solve for }t\\\\\n",
    "t &= \\frac{n\\pi}{\\omega_{n}\\sqrt{1-\\zeta^{2}}} \\:\\:\\:\\:\\:\\:\\:\\:\\:\\:\\:\\:\\:\\:\\:\\:\\:\\:\\:\\:\\:\\:\\:\\:\\:\\:\\:\\: n=1,3,5 ...\n",
    "\\end{align*}$$\n",
    "\n",
    "After considering that we only care about $n=1$ (first peak), peak time will be:\n",
    "$$\\begin{align*}\n",
    "T_{p} &= \\frac{\\pi}{\\omega_{n}\\sqrt{1-\\zeta^{2}}} = \\frac{\\pi}{\\omega_{t}}\n",
    "\\end{align*}$$\n",
    "\n",
    "We need to get all the things for peak overshoot:\n",
    "\n",
    "$$\\begin{align*}\n",
    "PO  &= \\frac{c_{max}-c_{min}}{c_{final}} \\times 100 \n",
    "\\end{align*}$$\n",
    "\n",
    " \n",
    "\n",
    "First $c_{max}$:\n",
    "\n",
    "\n",
    "$$\\begin{align*}  \n",
    "c(T_{p}) &= 1 - \\frac{1}{\\sqrt{1-\\zeta^{2}}}e^{-\\zeta\\omega_{n}\\frac{\\pi}{\\omega_{n}\\sqrt{1-\\zeta^{2}}}} \\sin \\left(\\omega_{n} \\frac{\\pi}{\\omega_{n}\\sqrt{1-\\zeta^{2}}}\\sqrt{1 - \\zeta^{2}} + \\arctan \\frac{\\sqrt{1-\\zeta^{2}}}{\\zeta} \\right) \\\\\n",
    "c_{max} &= 1 - \\frac{1}{\\sqrt{1-\\zeta^{2}}}e^{-\\zeta \\frac{\\pi}{ \\sqrt{1-\\zeta^{2}}}} \\sin \\left(   \\pi  + \\arctan \\frac{\\sqrt{1-\\zeta^{2}}}{\\zeta} \\right) \\\\\n",
    "\\end{align*}$$\n",
    "\n",
    "Then $c_{min}$:\n",
    "\n",
    "$$\\begin{align*}  \n",
    "c(0) &= 1 - \\frac{1}{\\sqrt{1-\\zeta^{2}}}e^{-\\zeta\\omega_{n}0} \\sin \\left(\\omega_{n} 0\\sqrt{1 - \\zeta^{2}} + \\arctan \\frac{\\sqrt{1-\\zeta^{2}}}{\\zeta} \\right)  \\\\\n",
    "c_{min} &= 1 - \\frac{1}{\\sqrt{1-\\zeta^{2}}} \\sin \\left(\\arctan \\frac{\\sqrt{1-\\zeta^{2}}}{\\zeta} \\right)  \\\\\n",
    " &= 1-1\\\\\n",
    "&= 0  \\\\\n",
    "\n",
    "\\end{align*}$$\n",
    "\n",
    "Then $c_{total}$:\n",
    "$$\\begin{align*}  \n",
    "\\lim_{t\\to\\infty} c(t) &= 1 - \\frac{1}{\\sqrt{1-\\zeta^{2}}}e^{-\\zeta\\omega_{n}t} \\sin \\left(\\omega_{n} t\\sqrt{1 - \\zeta^{2}} + \\arctan \\frac{\\sqrt{1-\\zeta^{2}}}{\\zeta} \\right)  \\\\\n",
    "c_{total} &= 1 - \\frac{1}{\\sqrt{1-\\zeta^{2}}} \\\\\n",
    "\n",
    "\\end{align*}$$\n",
    "\n",
    "Finally:\n",
    "\n",
    "$$\\begin{align*}\n",
    "PO  &= \\frac{c_{max}-c_{min}}{c_{final}} \\times 100 & &\\to & PO  &= \\frac{1 - \\frac{1}{\\sqrt{1-\\zeta^{2}}}e^{-\\zeta \\frac{\\pi}{ \\sqrt{1-\\zeta^{2}}}} \\sin \\left(   \\pi  + \\arctan \\frac{\\sqrt{1-\\zeta^{2}}}{\\zeta} \\right) }{ 1 - \\frac{1}{\\sqrt{1-\\zeta^{2}}}} \\times 100 \n",
    "\\end{align*}$$\n",
    "\n",
    "Ok so just simplify that. I [[it is just that easy|did it in my head]], got this:\n",
    "\n",
    "$$\\begin{align*}\n",
    "PO &= 100 \\exp \\left(- \\frac{\\pi\\zeta}{\\sqrt{1-\\zeta^{2}}}\\right)\n",
    "\\end{align*}$$\n",
    "\n",
    "Easy.\n",
    "\n",
    "#### Settling time\n",
    "\n",
    "That can be suitably found after 4 time steps:\n",
    "\n",
    "$$\\begin{align*}\n",
    " c(T_{s})=c(4T) &\\approx 4\\%\\text{ of fianl value}\n",
    "\\end{align*}$$\n",
    "\n",
    "Here:\n",
    "$$\\begin{align*}\n",
    "T=\\frac{1}{\\zeta \\omega_{n}}\n",
    "\\end{align*}$$\n",
    "\n",
    "#### Rise time\n",
    "\n",
    "This is actually REALLY hard analytically, for this case it comes out as about:\n",
    "\n",
    "$$\\begin{align*}\n",
    "T_{r} &= \\frac{1.8}{\\omega_{n}}\n",
    "\\end{align*}$$\n",
    "\n",
    "This is a conservative estimate.\n"
   ]
  },
  {
   "cell_type": "code",
   "execution_count": null,
   "id": "9fcf1dd6-a5f6-49fd-bc39-e068cc73fe0b",
   "metadata": {},
   "outputs": [],
   "source": [
    "stuff"
   ]
  },
  {
   "cell_type": "markdown",
   "id": "db51c3ba-06c7-4e0d-ad6f-ddeb3742f7d7",
   "metadata": {},
   "source": [
    "### 2f plot "
   ]
  },
  {
   "cell_type": "code",
   "execution_count": 53,
   "id": "d9a28eac-5e1c-4d34-b4e7-a5181fbb80be",
   "metadata": {},
   "outputs": [
    {
     "name": "stdout",
     "output_type": "stream",
     "text": [
      "2.718281828459045\n"
     ]
    },
    {
     "ename": "TypeError",
     "evalue": "Cannot convert complex to float",
     "output_type": "error",
     "traceback": [
      "\u001b[1;31m---------------------------------------------------------------------------\u001b[0m",
      "\u001b[1;31mTypeError\u001b[0m                                 Traceback (most recent call last)",
      "Cell \u001b[1;32mIn[53], line 20\u001b[0m\n\u001b[0;32m     16\u001b[0m     Cs\u001b[38;5;241m.\u001b[39mappend((\u001b[38;5;241m1\u001b[39m \u001b[38;5;241m-\u001b[39m ((\u001b[38;5;241m1\u001b[39m\u001b[38;5;241m/\u001b[39msp\u001b[38;5;241m.\u001b[39msqrt( \u001b[38;5;241m1\u001b[39m \u001b[38;5;241m-\u001b[39m zeta\u001b[38;5;241m*\u001b[39mzeta ))) \u001b[38;5;241m*\u001b[39m e\u001b[38;5;241m*\u001b[39m\u001b[38;5;241m*\u001b[39m( \u001b[38;5;241m-\u001b[39m zeta\u001b[38;5;241m*\u001b[39momega_n\u001b[38;5;241m*\u001b[39mt ) \u001b[38;5;241m*\u001b[39m sp\u001b[38;5;241m.\u001b[39msin( omega_n\u001b[38;5;241m*\u001b[39mt\u001b[38;5;241m*\u001b[39msp\u001b[38;5;241m.\u001b[39msqrt(\u001b[38;5;241m1\u001b[39m \u001b[38;5;241m-\u001b[39m zeta\u001b[38;5;241m*\u001b[39m\u001b[38;5;241m*\u001b[39m\u001b[38;5;241m2\u001b[39m) \u001b[38;5;241m+\u001b[39m sp\u001b[38;5;241m.\u001b[39matan( sp\u001b[38;5;241m.\u001b[39msqrt(\u001b[38;5;241m1\u001b[39m\u001b[38;5;241m-\u001b[39mzeta\u001b[38;5;241m*\u001b[39m\u001b[38;5;241m*\u001b[39m\u001b[38;5;241m2\u001b[39m)\u001b[38;5;241m/\u001b[39mzeta ) ) )\u001b[38;5;241m.\u001b[39mevalf())\n\u001b[0;32m     18\u001b[0m \u001b[38;5;28mprint\u001b[39m(e)\n\u001b[1;32m---> 20\u001b[0m \u001b[43mplot\u001b[49m\u001b[38;5;241;43m.\u001b[39;49m\u001b[43mplot\u001b[49m\u001b[43m(\u001b[49m\u001b[43m \u001b[49m\u001b[43mTs\u001b[49m\u001b[43m,\u001b[49m\u001b[43m \u001b[49m\u001b[43mCs\u001b[49m\u001b[43m \u001b[49m\u001b[43m)\u001b[49m\n\u001b[0;32m     22\u001b[0m plot\u001b[38;5;241m.\u001b[39mshow()\n",
      "File \u001b[1;32mC:\\Python\\Lib\\site-packages\\matplotlib\\pyplot.py:2812\u001b[0m, in \u001b[0;36mplot\u001b[1;34m(scalex, scaley, data, *args, **kwargs)\u001b[0m\n\u001b[0;32m   2810\u001b[0m \u001b[38;5;129m@_copy_docstring_and_deprecators\u001b[39m(Axes\u001b[38;5;241m.\u001b[39mplot)\n\u001b[0;32m   2811\u001b[0m \u001b[38;5;28;01mdef\u001b[39;00m \u001b[38;5;21mplot\u001b[39m(\u001b[38;5;241m*\u001b[39margs, scalex\u001b[38;5;241m=\u001b[39m\u001b[38;5;28;01mTrue\u001b[39;00m, scaley\u001b[38;5;241m=\u001b[39m\u001b[38;5;28;01mTrue\u001b[39;00m, data\u001b[38;5;241m=\u001b[39m\u001b[38;5;28;01mNone\u001b[39;00m, \u001b[38;5;241m*\u001b[39m\u001b[38;5;241m*\u001b[39mkwargs):\n\u001b[1;32m-> 2812\u001b[0m     \u001b[38;5;28;01mreturn\u001b[39;00m \u001b[43mgca\u001b[49m\u001b[43m(\u001b[49m\u001b[43m)\u001b[49m\u001b[38;5;241;43m.\u001b[39;49m\u001b[43mplot\u001b[49m\u001b[43m(\u001b[49m\n\u001b[0;32m   2813\u001b[0m \u001b[43m        \u001b[49m\u001b[38;5;241;43m*\u001b[39;49m\u001b[43margs\u001b[49m\u001b[43m,\u001b[49m\u001b[43m \u001b[49m\u001b[43mscalex\u001b[49m\u001b[38;5;241;43m=\u001b[39;49m\u001b[43mscalex\u001b[49m\u001b[43m,\u001b[49m\u001b[43m \u001b[49m\u001b[43mscaley\u001b[49m\u001b[38;5;241;43m=\u001b[39;49m\u001b[43mscaley\u001b[49m\u001b[43m,\u001b[49m\n\u001b[0;32m   2814\u001b[0m \u001b[43m        \u001b[49m\u001b[38;5;241;43m*\u001b[39;49m\u001b[38;5;241;43m*\u001b[39;49m\u001b[43m(\u001b[49m\u001b[43m{\u001b[49m\u001b[38;5;124;43m\"\u001b[39;49m\u001b[38;5;124;43mdata\u001b[39;49m\u001b[38;5;124;43m\"\u001b[39;49m\u001b[43m:\u001b[49m\u001b[43m \u001b[49m\u001b[43mdata\u001b[49m\u001b[43m}\u001b[49m\u001b[43m \u001b[49m\u001b[38;5;28;43;01mif\u001b[39;49;00m\u001b[43m \u001b[49m\u001b[43mdata\u001b[49m\u001b[43m \u001b[49m\u001b[38;5;129;43;01mis\u001b[39;49;00m\u001b[43m \u001b[49m\u001b[38;5;129;43;01mnot\u001b[39;49;00m\u001b[43m \u001b[49m\u001b[38;5;28;43;01mNone\u001b[39;49;00m\u001b[43m \u001b[49m\u001b[38;5;28;43;01melse\u001b[39;49;00m\u001b[43m \u001b[49m\u001b[43m{\u001b[49m\u001b[43m}\u001b[49m\u001b[43m)\u001b[49m\u001b[43m,\u001b[49m\u001b[43m \u001b[49m\u001b[38;5;241;43m*\u001b[39;49m\u001b[38;5;241;43m*\u001b[39;49m\u001b[43mkwargs\u001b[49m\u001b[43m)\u001b[49m\n",
      "File \u001b[1;32mC:\\Python\\Lib\\site-packages\\matplotlib\\axes\\_axes.py:1690\u001b[0m, in \u001b[0;36mAxes.plot\u001b[1;34m(self, scalex, scaley, data, *args, **kwargs)\u001b[0m\n\u001b[0;32m   1688\u001b[0m lines \u001b[38;5;241m=\u001b[39m [\u001b[38;5;241m*\u001b[39m\u001b[38;5;28mself\u001b[39m\u001b[38;5;241m.\u001b[39m_get_lines(\u001b[38;5;241m*\u001b[39margs, data\u001b[38;5;241m=\u001b[39mdata, \u001b[38;5;241m*\u001b[39m\u001b[38;5;241m*\u001b[39mkwargs)]\n\u001b[0;32m   1689\u001b[0m \u001b[38;5;28;01mfor\u001b[39;00m line \u001b[38;5;129;01min\u001b[39;00m lines:\n\u001b[1;32m-> 1690\u001b[0m     \u001b[38;5;28;43mself\u001b[39;49m\u001b[38;5;241;43m.\u001b[39;49m\u001b[43madd_line\u001b[49m\u001b[43m(\u001b[49m\u001b[43mline\u001b[49m\u001b[43m)\u001b[49m\n\u001b[0;32m   1691\u001b[0m \u001b[38;5;28;01mif\u001b[39;00m scalex:\n\u001b[0;32m   1692\u001b[0m     \u001b[38;5;28mself\u001b[39m\u001b[38;5;241m.\u001b[39m_request_autoscale_view(\u001b[38;5;124m\"\u001b[39m\u001b[38;5;124mx\u001b[39m\u001b[38;5;124m\"\u001b[39m)\n",
      "File \u001b[1;32mC:\\Python\\Lib\\site-packages\\matplotlib\\axes\\_base.py:2304\u001b[0m, in \u001b[0;36m_AxesBase.add_line\u001b[1;34m(self, line)\u001b[0m\n\u001b[0;32m   2301\u001b[0m \u001b[38;5;28;01mif\u001b[39;00m line\u001b[38;5;241m.\u001b[39mget_clip_path() \u001b[38;5;129;01mis\u001b[39;00m \u001b[38;5;28;01mNone\u001b[39;00m:\n\u001b[0;32m   2302\u001b[0m     line\u001b[38;5;241m.\u001b[39mset_clip_path(\u001b[38;5;28mself\u001b[39m\u001b[38;5;241m.\u001b[39mpatch)\n\u001b[1;32m-> 2304\u001b[0m \u001b[38;5;28;43mself\u001b[39;49m\u001b[38;5;241;43m.\u001b[39;49m\u001b[43m_update_line_limits\u001b[49m\u001b[43m(\u001b[49m\u001b[43mline\u001b[49m\u001b[43m)\u001b[49m\n\u001b[0;32m   2305\u001b[0m \u001b[38;5;28;01mif\u001b[39;00m \u001b[38;5;129;01mnot\u001b[39;00m line\u001b[38;5;241m.\u001b[39mget_label():\n\u001b[0;32m   2306\u001b[0m     line\u001b[38;5;241m.\u001b[39mset_label(\u001b[38;5;124mf\u001b[39m\u001b[38;5;124m'\u001b[39m\u001b[38;5;124m_child\u001b[39m\u001b[38;5;132;01m{\u001b[39;00m\u001b[38;5;28mlen\u001b[39m(\u001b[38;5;28mself\u001b[39m\u001b[38;5;241m.\u001b[39m_children)\u001b[38;5;132;01m}\u001b[39;00m\u001b[38;5;124m'\u001b[39m)\n",
      "File \u001b[1;32mC:\\Python\\Lib\\site-packages\\matplotlib\\axes\\_base.py:2327\u001b[0m, in \u001b[0;36m_AxesBase._update_line_limits\u001b[1;34m(self, line)\u001b[0m\n\u001b[0;32m   2323\u001b[0m \u001b[38;5;28;01mdef\u001b[39;00m \u001b[38;5;21m_update_line_limits\u001b[39m(\u001b[38;5;28mself\u001b[39m, line):\n\u001b[0;32m   2324\u001b[0m \u001b[38;5;250m    \u001b[39m\u001b[38;5;124;03m\"\"\"\u001b[39;00m\n\u001b[0;32m   2325\u001b[0m \u001b[38;5;124;03m    Figures out the data limit of the given line, updating self.dataLim.\u001b[39;00m\n\u001b[0;32m   2326\u001b[0m \u001b[38;5;124;03m    \"\"\"\u001b[39;00m\n\u001b[1;32m-> 2327\u001b[0m     path \u001b[38;5;241m=\u001b[39m \u001b[43mline\u001b[49m\u001b[38;5;241;43m.\u001b[39;49m\u001b[43mget_path\u001b[49m\u001b[43m(\u001b[49m\u001b[43m)\u001b[49m\n\u001b[0;32m   2328\u001b[0m     \u001b[38;5;28;01mif\u001b[39;00m path\u001b[38;5;241m.\u001b[39mvertices\u001b[38;5;241m.\u001b[39msize \u001b[38;5;241m==\u001b[39m \u001b[38;5;241m0\u001b[39m:\n\u001b[0;32m   2329\u001b[0m         \u001b[38;5;28;01mreturn\u001b[39;00m\n",
      "File \u001b[1;32mC:\\Python\\Lib\\site-packages\\matplotlib\\lines.py:1029\u001b[0m, in \u001b[0;36mLine2D.get_path\u001b[1;34m(self)\u001b[0m\n\u001b[0;32m   1027\u001b[0m \u001b[38;5;250m\u001b[39m\u001b[38;5;124;03m\"\"\"Return the `~matplotlib.path.Path` associated with this line.\"\"\"\u001b[39;00m\n\u001b[0;32m   1028\u001b[0m \u001b[38;5;28;01mif\u001b[39;00m \u001b[38;5;28mself\u001b[39m\u001b[38;5;241m.\u001b[39m_invalidy \u001b[38;5;129;01mor\u001b[39;00m \u001b[38;5;28mself\u001b[39m\u001b[38;5;241m.\u001b[39m_invalidx:\n\u001b[1;32m-> 1029\u001b[0m     \u001b[38;5;28;43mself\u001b[39;49m\u001b[38;5;241;43m.\u001b[39;49m\u001b[43mrecache\u001b[49m\u001b[43m(\u001b[49m\u001b[43m)\u001b[49m\n\u001b[0;32m   1030\u001b[0m \u001b[38;5;28;01mreturn\u001b[39;00m \u001b[38;5;28mself\u001b[39m\u001b[38;5;241m.\u001b[39m_path\n",
      "File \u001b[1;32mC:\\Python\\Lib\\site-packages\\matplotlib\\lines.py:662\u001b[0m, in \u001b[0;36mLine2D.recache\u001b[1;34m(self, always)\u001b[0m\n\u001b[0;32m    660\u001b[0m \u001b[38;5;28;01mif\u001b[39;00m always \u001b[38;5;129;01mor\u001b[39;00m \u001b[38;5;28mself\u001b[39m\u001b[38;5;241m.\u001b[39m_invalidy:\n\u001b[0;32m    661\u001b[0m     yconv \u001b[38;5;241m=\u001b[39m \u001b[38;5;28mself\u001b[39m\u001b[38;5;241m.\u001b[39mconvert_yunits(\u001b[38;5;28mself\u001b[39m\u001b[38;5;241m.\u001b[39m_yorig)\n\u001b[1;32m--> 662\u001b[0m     y \u001b[38;5;241m=\u001b[39m \u001b[43m_to_unmasked_float_array\u001b[49m\u001b[43m(\u001b[49m\u001b[43myconv\u001b[49m\u001b[43m)\u001b[49m\u001b[38;5;241m.\u001b[39mravel()\n\u001b[0;32m    663\u001b[0m \u001b[38;5;28;01melse\u001b[39;00m:\n\u001b[0;32m    664\u001b[0m     y \u001b[38;5;241m=\u001b[39m \u001b[38;5;28mself\u001b[39m\u001b[38;5;241m.\u001b[39m_y\n",
      "File \u001b[1;32mC:\\Python\\Lib\\site-packages\\matplotlib\\cbook\\__init__.py:1335\u001b[0m, in \u001b[0;36m_to_unmasked_float_array\u001b[1;34m(x)\u001b[0m\n\u001b[0;32m   1333\u001b[0m     \u001b[38;5;28;01mreturn\u001b[39;00m np\u001b[38;5;241m.\u001b[39mma\u001b[38;5;241m.\u001b[39masarray(x, \u001b[38;5;28mfloat\u001b[39m)\u001b[38;5;241m.\u001b[39mfilled(np\u001b[38;5;241m.\u001b[39mnan)\n\u001b[0;32m   1334\u001b[0m \u001b[38;5;28;01melse\u001b[39;00m:\n\u001b[1;32m-> 1335\u001b[0m     \u001b[38;5;28;01mreturn\u001b[39;00m np\u001b[38;5;241m.\u001b[39masarray(x, \u001b[38;5;28mfloat\u001b[39m)\n",
      "File \u001b[1;32mC:\\Python\\Lib\\site-packages\\sympy\\core\\expr.py:350\u001b[0m, in \u001b[0;36mExpr.__float__\u001b[1;34m(self)\u001b[0m\n\u001b[0;32m    348\u001b[0m     \u001b[38;5;28;01mreturn\u001b[39;00m \u001b[38;5;28mfloat\u001b[39m(result)\n\u001b[0;32m    349\u001b[0m \u001b[38;5;28;01mif\u001b[39;00m result\u001b[38;5;241m.\u001b[39mis_number \u001b[38;5;129;01mand\u001b[39;00m result\u001b[38;5;241m.\u001b[39mas_real_imag()[\u001b[38;5;241m1\u001b[39m]:\n\u001b[1;32m--> 350\u001b[0m     \u001b[38;5;28;01mraise\u001b[39;00m \u001b[38;5;167;01mTypeError\u001b[39;00m(\u001b[38;5;124m\"\u001b[39m\u001b[38;5;124mCannot convert complex to float\u001b[39m\u001b[38;5;124m\"\u001b[39m)\n\u001b[0;32m    351\u001b[0m \u001b[38;5;28;01mraise\u001b[39;00m \u001b[38;5;167;01mTypeError\u001b[39;00m(\u001b[38;5;124m\"\u001b[39m\u001b[38;5;124mCannot convert expression to float\u001b[39m\u001b[38;5;124m\"\u001b[39m)\n",
      "\u001b[1;31mTypeError\u001b[0m: Cannot convert complex to float"
     ]
    },
    {
     "data": {
      "image/png": "[encoded data removed]",
      "text/plain": [
       "<Figure size 640x480 with 1 Axes>"
      ]
     },
     "metadata": {},
     "output_type": "display_data"
    }
   ],
   "source": [
    "import matplotlib.pyplot as plot \n",
    "import numpy as np\n",
    "\n",
    "plot.figure(87443452)\n",
    "plot.grid()\n",
    "\n",
    "plot.title(\"tawd\" ) \n",
    "plot.ylabel( \"C\" )\n",
    "plot.xlabel( \"t\" ) \n",
    "\n",
    "Ts = [i * 0.04 for i in range(int(10 / 0.04))]\n",
    "e = np.e\n",
    "\n",
    "Cs = []\n",
    "for t in Ts:\n",
    "    Cs.append((1 - ((1/sp.sqrt( 1 - zeta*zeta ))) * e**( - zeta*omega_n*t ) * sp.sin( omega_n*t*sp.sqrt(1 - zeta**2) + sp.atan( sp.sqrt(1-zeta**2)/zeta ) ) ).evalf())\n",
    "\n",
    "print(e)\n",
    "\n",
    "plot.plot( Ts, Cs )\n",
    "\n",
    "plot.show()"
   ]
  },
  {
   "cell_type": "code",
   "execution_count": null,
   "id": "5d873b94-50b9-467f-a0a1-5c6aa10e7a94",
   "metadata": {},
   "outputs": [],
   "source": []
  }
 ],
 "metadata": {
  "kernelspec": {
   "display_name": "Python 3 (ipykernel)",
   "language": "python",
   "name": "python3"
  },
  "language_info": {
   "codemirror_mode": {
    "name": "ipython",
    "version": 3
   },
   "file_extension": ".py",
   "mimetype": "text/x-python",
   "name": "python",
   "nbconvert_exporter": "python",
   "pygments_lexer": "ipython3",
   "version": "3.11.4"
  }
 },
 "nbformat": 4,
 "nbformat_minor": 5
}
