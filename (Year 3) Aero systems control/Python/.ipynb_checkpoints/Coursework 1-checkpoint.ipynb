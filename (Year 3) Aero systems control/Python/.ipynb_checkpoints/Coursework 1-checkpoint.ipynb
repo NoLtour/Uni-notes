{
 "cells": [
  {
   "cell_type": "markdown",
   "id": "e1249d91-3eb6-4a1d-8931-4e868d14e254",
   "metadata": {},
   "source": [
    "### 2a"
   ]
  },
  {
   "cell_type": "markdown",
   "id": "d741cd6e-c27d-456c-acc8-aee0ab38b79c",
   "metadata": {},
   "source": [
    "\n",
    " $$\\begin{align*}G(s)&= \\frac{b_{0}}{a_{2}s^{2} + a_{1}s+ a_{0}} & &\\to & G(s)&= \\frac{b_{0}/a_{2}}{a_{2}/a_{2}\\:s^{2} + a_{1}/a_{2}\\:s+ a_{0}/a_{2}} & &\\to & G(s)&= \\frac{K \\omega_{n}^{2}}{s^{2} + 2\\zeta \\omega_{n}s+ \\omega_{n}^{2}} \\end{align*}$$\n",
    " $$\\begin{align*} \\omega_{n} &= \\sqrt{\\frac{a_{0}}{a_{2}}} & K &= \\frac{b_{0}}{a_{2} \\omega_{n}^{2}} = \\frac{b_{0} }{ a_{0}} & \\zeta &= \\frac{a_{1}}{2a_{2} \\omega_{n}} = \\frac{a_{1}}{2\\sqrt{a_{2}a_{0}} } \\end{align*}$$\n",
    "\n"
   ]
  },
  {
   "cell_type": "code",
   "execution_count": 21,
   "id": "3adb993d-aabc-48b3-8642-c569ecce1e12",
   "metadata": {},
   "outputs": [
    {
     "name": "stdout",
     "output_type": "stream",
     "text": [
      "natural freq: 20.0000000000000\n",
      "system gain: 0.75\n",
      "daming factor: 0.250000000000000\n"
     ]
    }
   ],
   "source": [
    "import sympy as sp \n",
    "sp.init_printing()\n",
    "\n",
    "a_2 = 1\n",
    "a_1 = 10\n",
    "a_0 = 400\n",
    "b_0 = 300\n",
    "\n",
    "omega_n = sp.sqrt( a_0/a_2 )\n",
    "K = b_0/a_0\n",
    "zeta =   a_1/(2*sp.sqrt( a_0*a_2 ))\n",
    "\n",
    "print( \"natural freq:\", omega_n.evalf() )\n",
    "print( \"system gain:\",K)\n",
    "print( \"daming factor:\", zeta.evalf()  )\n"
   ]
  },
  {
   "cell_type": "markdown",
   "id": "04ffc932-81e9-4d3d-8dc9-379b3f7ec1a3",
   "metadata": {},
   "source": [
    "### 2b"
   ]
  },
  {
   "cell_type": "code",
   "execution_count": 22,
   "id": "bfd98ae2-50df-4373-99bb-7c9dffe721f4",
   "metadata": {},
   "outputs": [
    {
     "name": "stdout",
     "output_type": "stream",
     "text": [
      "daming factor: 0.250000000000000\n"
     ]
    }
   ],
   "source": [
    "\n",
    "print( \"daming factor:\", zeta.evalf()  )"
   ]
  },
  {
   "cell_type": "markdown",
   "id": "9470bd40-156b-471f-acae-723cfa81ad53",
   "metadata": {},
   "source": [
    "### 2c,d,e (Taken from my obsidian notes https://github.com/NoLtour/Uni-notes/blob/main/(Year%203)%20Aero%20systems%20control/4%20Response%20of%20dynamic%20systems/dynamic%20system%20response%20time%20metrics.md)"
   ]
  },
  {
   "cell_type": "markdown",
   "id": "24c45ff8-d899-499b-8998-8bea3016738a",
   "metadata": {},
   "source": [
    "Taking a second order system and applying a step response will produce the oscillatory motion. From notes a 2nd order system under step response of the previous form has c function:\n",
    "\n",
    "$$\\begin{align*}\n",
    "c(t) &= 1 - \\frac{1}{\\sqrt{1-\\zeta^{2}}}e^{-\\zeta\\omega_{n}t} \\sin \\left(\\omega_{n} t\\sqrt{1 - \\zeta^{2}} + \\arctan \\frac{\\sqrt{1-\\zeta^{2}}}{\\zeta} \\right)\n",
    "\\end{align*}$$\n",
    "\n",
    "We'll now use this as our equation for getting each of these metrics from.\n",
    "\n",
    "#### Peak overshoot\n",
    "\n",
    "Not so hard, just find where $dc/dt=0$ and then take the first occurance above zero. This looks daunting, till you realise that $\\zeta$ and $\\omega_{n}$ are constants. Going to skip over most of it:\n",
    "\n",
    "$$\\begin{align*}\n",
    "c(t) &= 1 - \\frac{1}{\\sqrt{1-\\zeta^{2}}}e^{-\\zeta\\omega_{n}t} \\sin \\left(\\omega_{n} t\\sqrt{1 - \\zeta^{2}} + \\arctan \\frac{\\sqrt{1-\\zeta^{2}}}{\\zeta} \\right) \\\\\n",
    "&\\downarrow\\: \\text{ Find } \\frac{dc}{dx}=0 \\text{, then rearrange}\\\\\n",
    "\\frac{\\sqrt{{1-\\zeta^{2}}}}{\\zeta} &= \\tan\\left( \\omega_{n}t\\sqrt{1-\\zeta^{2}} +\\arctan\\frac{\\sqrt{1-\\zeta^{2}}}{\\zeta} \\right)\\\\\n",
    "&\\downarrow\\: \\text{ Solve for }t\\\\\n",
    "t &= \\frac{n\\pi}{\\omega_{n}\\sqrt{1-\\zeta^{2}}} \\:\\:\\:\\:\\:\\:\\:\\:\\:\\:\\:\\:\\:\\:\\:\\:\\:\\:\\:\\:\\:\\:\\:\\:\\:\\:\\:\\: n=1,3,5 ...\n",
    "\\end{align*}$$\n",
    "\n",
    "After considering that we only care about $n=1$ (first peak), peak time will be:\n",
    "$$\\begin{align*}\n",
    "T_{p} &= \\frac{\\pi}{\\omega_{n}\\sqrt{1-\\zeta^{2}}} = \\frac{\\pi}{\\omega_{t}}\n",
    "\\end{align*}$$\n",
    "\n",
    "We need to get all the things for peak overshoot:\n",
    "\n",
    "$$\\begin{align*}\n",
    "PO  &= \\frac{c_{max}-c_{min}}{c_{final}} \\times 100 \n",
    "\\end{align*}$$\n",
    "\n",
    " \n",
    "\n",
    "First $c_{max}$:\n",
    "\n",
    "\n",
    "$$\\begin{align*}  \n",
    "c(T_{p}) &= 1 - \\frac{1}{\\sqrt{1-\\zeta^{2}}}e^{-\\zeta\\omega_{n}\\frac{\\pi}{\\omega_{n}\\sqrt{1-\\zeta^{2}}}} \\sin \\left(\\omega_{n} \\frac{\\pi}{\\omega_{n}\\sqrt{1-\\zeta^{2}}}\\sqrt{1 - \\zeta^{2}} + \\arctan \\frac{\\sqrt{1-\\zeta^{2}}}{\\zeta} \\right) \\\\\n",
    "c_{max} &= 1 - \\frac{1}{\\sqrt{1-\\zeta^{2}}}e^{-\\zeta \\frac{\\pi}{ \\sqrt{1-\\zeta^{2}}}} \\sin \\left(   \\pi  + \\arctan \\frac{\\sqrt{1-\\zeta^{2}}}{\\zeta} \\right) \\\\\n",
    "\\end{align*}$$\n",
    "\n",
    "Then $c_{min}$:\n",
    "\n",
    "$$\\begin{align*}  \n",
    "c(0) &= 1 - \\frac{1}{\\sqrt{1-\\zeta^{2}}}e^{-\\zeta\\omega_{n}0} \\sin \\left(\\omega_{n} 0\\sqrt{1 - \\zeta^{2}} + \\arctan \\frac{\\sqrt{1-\\zeta^{2}}}{\\zeta} \\right)  \\\\\n",
    "c_{min} &= 1 - \\frac{1}{\\sqrt{1-\\zeta^{2}}} \\sin \\left(\\arctan \\frac{\\sqrt{1-\\zeta^{2}}}{\\zeta} \\right)  \\\\\n",
    " &= 1-1\\\\\n",
    "&= 0  \\\\\n",
    "\\end{align*}$$\n",
    "\n",
    "Then $c_{total}$:\n",
    "$$\\begin{align*}  \n",
    "\\lim_{t\\to\\infty} c(t) &= 1 - \\frac{1}{\\sqrt{1-\\zeta^{2}}}e^{-\\zeta\\omega_{n}t} \\sin \\left(\\omega_{n} t\\sqrt{1 - \\zeta^{2}} + \\arctan \\frac{\\sqrt{1-\\zeta^{2}}}{\\zeta} \\right)  \\\\\n",
    "c_{total} &= 1 - \\frac{1}{\\sqrt{1-\\zeta^{2}}} \\\\\n",
    "\\end{align*}$$\n",
    "\n",
    "Finally:\n",
    "\n",
    "$$\\begin{align*}\n",
    "PO  &= \\frac{c_{max}-c_{min}}{c_{final}} \\times 100 & &\\to & PO  &= \\frac{1 - \\frac{1}{\\sqrt{1-\\zeta^{2}}}e^{-\\zeta \\frac{\\pi}{ \\sqrt{1-\\zeta^{2}}}} \\sin \\left(   \\pi  + \\arctan \\frac{\\sqrt{1-\\zeta^{2}}}{\\zeta} \\right) }{ 1 - \\frac{1}{\\sqrt{1-\\zeta^{2}}}} \\times 100 \n",
    "\\end{align*}$$\n",
    "\n",
    "Ok so just simplify that. I [[it is just that easy|did it in my head]], got this:\n",
    "\n",
    "$$\\begin{align*}\n",
    "PO &= 100 \\exp \\left(- \\frac{\\pi\\zeta}{\\sqrt{1-\\zeta^{2}}}\\right)\n",
    "\\end{align*}$$\n",
    "\n",
    "Easy.\n",
    "\n",
    "#### Settling time\n",
    "\n",
    "That can be suitably found after 4 time steps:\n",
    "\n",
    "$$\\begin{align*}\n",
    " c(T_{s})=c(4T) &\\approx 4\\%\\text{ of fianl value}\n",
    "\\end{align*}$$\n",
    "\n",
    "Here:\n",
    "$$\\begin{align*}\n",
    "T=\\frac{1}{\\zeta \\omega_{n}}\n",
    "\\end{align*}$$\n",
    "\n",
    "#### Rise time\n",
    "\n",
    "This is actually REALLY hard analytically, for this case it comes out as about:\n",
    "\n",
    "$$\\begin{align*}\n",
    "T_{r} &= \\frac{1.8}{\\omega_{n}}\n",
    "\\end{align*}$$\n",
    "\n",
    "This is a conservative estimate.\n"
   ]
  },
  {
   "cell_type": "markdown",
   "id": "143f0565-d5b8-4fa6-88fa-0505907ba30a",
   "metadata": {},
   "source": [
    "#### 2c"
   ]
  },
  {
   "cell_type": "code",
   "execution_count": 23,
   "id": "b3cc3582-0577-4e05-92a4-352322518b23",
   "metadata": {},
   "outputs": [
    {
     "name": "stdout",
     "output_type": "stream",
     "text": [
      "settlingTime: 0.200000000000000 = 0.200000000000000\n"
     ]
    }
   ],
   "source": [
    "settlingTime = 1/(zeta*omega_n)\n",
    "\n",
    "print( \"settlingTime:\", settlingTime, \"=\", settlingTime.evalf() )"
   ]
  },
  {
   "cell_type": "code",
   "execution_count": 24,
   "id": "ff4a0b4d-7d06-41cb-b43b-05da16a10d75",
   "metadata": {},
   "outputs": [],
   "source": [
    "#### 2d overshoot"
   ]
  },
  {
   "cell_type": "code",
   "execution_count": 25,
   "id": "09386546-2bd4-42d5-b7de-78df20b46bdc",
   "metadata": {},
   "outputs": [
    {
     "name": "stdout",
     "output_type": "stream",
     "text": [
      "peak overshoot value = exp(-sqrt(15)*pi/15) + 1 = 1.44434422508849\n",
      "peak overshoot = 44.4344225088489 %\n"
     ]
    }
   ],
   "source": [
    "e = sp.E\n",
    "pi = sp.pi\n",
    "\n",
    "c_max = 1 - (1/sp.sqrt(1 - zeta**2))*e**(-zeta * pi/(sp.sqrt(1 - zeta**2))) * sp.sin( pi + sp.atan( sp.sqrt(1 - zeta**2)/zeta ) )\n",
    "\n",
    "sp.E**2\n",
    "\n",
    "print( \"peak overshoot value =\",c_max,\"=\",c_max.evalf() )\n",
    "\n",
    "peakOvershoot = 100 * e**( - pi*zeta/(sp.sqrt(1 - zeta**2)) )\n",
    "\n",
    "print( \"peak overshoot =\",peakOvershoot.evalf(),\"%\" )"
   ]
  },
  {
   "cell_type": "code",
   "execution_count": 26,
   "id": "b31487e4-2746-46ea-a75e-28f2404dd809",
   "metadata": {},
   "outputs": [],
   "source": [
    "#### 2e peak time"
   ]
  },
  {
   "cell_type": "code",
   "execution_count": 27,
   "id": "fed1f84b-4f22-42ea-be6e-b5092047fb8c",
   "metadata": {},
   "outputs": [
    {
     "name": "stdout",
     "output_type": "stream",
     "text": [
      "peak time= 0.0133333333333333*sqrt(15)*pi = 0.162231147038944\n"
     ]
    }
   ],
   "source": [
    "peakTime = pi/(omega_n * sp.sqrt(1 - zeta**2))\n",
    "\n",
    "print( \"peak time=\", peakTime ,\"=\", peakTime.evalf() )"
   ]
  },
  {
   "cell_type": "markdown",
   "id": "db51c3ba-06c7-4e0d-ad6f-ddeb3742f7d7",
   "metadata": {},
   "source": [
    "### 2f plot "
   ]
  },
  {
   "cell_type": "code",
   "execution_count": 28,
   "id": "d9a28eac-5e1c-4d34-b4e7-a5181fbb80be",
   "metadata": {},
   "outputs": [
    {
     "name": "stdout",
     "output_type": "stream",
     "text": [
      "2.718281828459045\n"
     ]
    },
    {
     "data": {
      "image/png": "[encoded data removed]",
      "text/plain": [
       "<Figure size 640x480 with 1 Axes>"
      ]
     },
     "metadata": {},
     "output_type": "display_data"
    }
   ],
   "source": [
    "import matplotlib.pyplot as plot \n",
    "import numpy as np\n",
    "\n",
    "plot.figure(87443452)\n",
    "plot.grid()\n",
    "\n",
    "plot.title(\"tawd\" ) \n",
    "plot.ylabel( \"C\" )\n",
    "plot.xlabel( \"t\" ) \n",
    "\n",
    "Ts = [i * 0.01 for i in range(int(2 / 0.01))]\n",
    "e = np.e\n",
    "\n",
    "Cs = []\n",
    "for t in Ts:\n",
    "    Cs.append((1 - ((1/sp.sqrt( 1 - zeta*zeta ))) * e**( - zeta*omega_n*t ) * sp.sin( omega_n*t*sp.sqrt(1 - zeta**2) + sp.atan( sp.sqrt(1-zeta**2)/zeta ) ) ).evalf())\n",
    "\n",
    "print(e)\n",
    "\n",
    "plot.plot( Ts, Cs )\n",
    "\n",
    "plot.show()"
   ]
  },
  {
   "cell_type": "markdown",
   "id": "a4e120aa-bf04-4b5b-80f9-1a8af630f9a3",
   "metadata": {},
   "source": [
    "#### 2g pole sketch\n",
    "\n"
   ]
  },
  {
   "cell_type": "code",
   "execution_count": 29,
   "id": "47b1a937-cac2-4745-9542-3143f2ed2598",
   "metadata": {},
   "outputs": [
    {
     "name": "stdout",
     "output_type": "stream",
     "text": [
      "pole1 = -1/80 - sqrt(15)*I/80\n",
      "pole2 = -1/80 + sqrt(15)*I/80\n"
     ]
    }
   ],
   "source": [
    "\n",
    "# Solve poles by treating \n",
    "\n",
    "x = sp.symbols(\"x\")\n",
    "\n",
    "pole1, pole2 = sp.solve( (x**2)*a_0 + x*a_1 +  a_2 )\n",
    "\n",
    "print(\"pole1 =\", pole1)\n",
    "print(\"pole2 =\", pole2)\n"
   ]
  },
  {
   "cell_type": "code",
   "execution_count": null,
   "id": "781074ba-0651-4bd2-9599-b5496f25fd89",
   "metadata": {},
   "outputs": [],
   "source": []
  }
 ],
 "metadata": {
  "kernelspec": {
   "display_name": "Python 3 (ipykernel)",
   "language": "python",
   "name": "python3"
  },
  "language_info": {
   "codemirror_mode": {
    "name": "ipython",
    "version": 3
   },
   "file_extension": ".py",
   "mimetype": "text/x-python",
   "name": "python",
   "nbconvert_exporter": "python",
   "pygments_lexer": "ipython3",
   "version": "3.11.4"
  }
 },
 "nbformat": 4,
 "nbformat_minor": 5
}
