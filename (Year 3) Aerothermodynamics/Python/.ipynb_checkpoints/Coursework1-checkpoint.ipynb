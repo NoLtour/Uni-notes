{
 "cells": [
  {
   "cell_type": "code",
   "execution_count": null,
   "id": "cbc3b88f-4b93-4e0e-8abc-34f616a0bfc5",
   "metadata": {},
   "outputs": [],
   "source": [
    "import numpy as np\n",
    "\n",
    "class IsentropicFlowTable:\n",
    "    def __init__(self, gamma, maxMach, machResolution):\n",
    "        self.maxMach = maxMach\n",
    "        self.gamma = gamma\n",
    "        self.machResolution = machResolution\n",
    "        \n",
    "        \n"
   ]
  },
  {
   "cell_type": "markdown",
   "id": "4bcdac15-373e-44eb-b9e5-a444c13721f9",
   "metadata": {},
   "source": [
    "That defines the Isentropic flow table\n",
    "\n",
    "\n"
   ]
  }
 ],
 "metadata": {
  "kernelspec": {
   "display_name": "Python 3 (ipykernel)",
   "language": "python",
   "name": "python3"
  },
  "language_info": {
   "codemirror_mode": {
    "name": "ipython",
    "version": 3
   },
   "file_extension": ".py",
   "mimetype": "text/x-python",
   "name": "python",
   "nbconvert_exporter": "python",
   "pygments_lexer": "ipython3",
   "version": "3.11.4"
  }
 },
 "nbformat": 4,
 "nbformat_minor": 5
}
